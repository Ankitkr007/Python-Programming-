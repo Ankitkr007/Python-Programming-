{
  "cells": [
    {
      "cell_type": "raw",
      "metadata": {
        "id": "u9CuipfZkIji"
      },
      "source": [
        "* \n",
        "* * \n",
        "* * * \n",
        "* * * * \n",
        "* * * * * "
      ]
    },
    {
      "cell_type": "code",
      "execution_count": 10,
      "metadata": {
        "id": "WIVFtj497UO3",
        "outputId": "b38d1ffd-2a3d-4004-a715-1f52ab5568c8",
        "colab": {
          "base_uri": "https://localhost:8080/"
        }
      },
      "outputs": [
        {
          "output_type": "stream",
          "name": "stdout",
          "text": [
            "* \n",
            "* * \n",
            "* * * \n",
            "* * * * \n",
            "* * * * * \n"
          ]
        }
      ],
      "source": [
        "# print the following pattern\n",
        "# nested loop concepts\n",
        "\n",
        "for i in range(1, 6):\n",
        "    for j in range(i):\n",
        "        print(\"*\", end=\" \")\n",
        "    print()\n",
        "\n",
        "\n"
      ]
    },
    {
      "cell_type": "markdown",
      "metadata": {
        "id": "EqYzNCn17UO4"
      },
      "source": [
        "Lets remove duplicates from list names=['A','B','C','A','D','E','F','G','H','E','D']\n",
        "\n"
      ]
    },
    {
      "cell_type": "code",
      "source": [
        "names = ['A', 'B', 'C', 'A', 'D', 'E', 'F', 'G', 'H', 'E', 'D']\n",
        "unique_names = []\n",
        "\n",
        "for name in names:\n",
        "    if name not in unique_names:\n",
        "        unique_names.append(name)\n",
        "\n",
        "print(unique_names)"
      ],
      "metadata": {
        "colab": {
          "base_uri": "https://localhost:8080/"
        },
        "id": "sX-qhgYjjX7H",
        "outputId": "537dec64-26ca-42f8-c88a-9a8d239b3292"
      },
      "execution_count": 15,
      "outputs": [
        {
          "output_type": "stream",
          "name": "stdout",
          "text": [
            "['A', 'B', 'C', 'D', 'E', 'F', 'G', 'H']\n"
          ]
        }
      ]
    },
    {
      "cell_type": "markdown",
      "metadata": {
        "id": "iLIwgeYl7UO4"
      },
      "source": [
        "Good! Shall we try solving above problem in shorter way using list comprehension? It will be amazing. Here we go!\n",
        "\n"
      ]
    },
    {
      "cell_type": "markdown",
      "metadata": {
        "id": "FJ3MUu2tkIjk"
      },
      "source": [
        "### 10. List Comprehensions\n",
        "\n",
        "Hey buddy! Python has really amazing thing called list comprehension. List comprehension offers a shorter syntax when you want to create a new list based on the values of an existing list. Cool right? Let's dive into this more by doing it. \n",
        "\n",
        "\n",
        "<p style='text-align: right;'> 10 + 10 + 10= 30 points </p>\n",
        "\n"
      ]
    },
    {
      "cell_type": "code",
      "execution_count": 16,
      "metadata": {
        "id": "M1PrtiD7kIjk",
        "outputId": "f03b3c45-2702-4453-b017-42c54d8d4dd3",
        "colab": {
          "base_uri": "https://localhost:8080/"
        }
      },
      "outputs": [
        {
          "output_type": "stream",
          "name": "stdout",
          "text": [
            "[1, 2, 3, 4, 5, 6, 7, 8, 9, 10, 11, 12, 13, 14, 15, 16, 17, 18, 19, 20]\n"
          ]
        }
      ],
      "source": [
        "# Using list comprehension, create a list containing numbers from 1 to 20. \n",
        "# Hint: You can use range function of python to do this.\n",
        "\n",
        "l1=[i for i in range (1,21)]\n",
        "print(l1)"
      ]
    },
    {
      "cell_type": "code",
      "execution_count": 18,
      "metadata": {
        "id": "Vj0NIJhZkIjk",
        "outputId": "e0801ca4-23ce-492c-b71c-80bbf6600df7",
        "colab": {
          "base_uri": "https://localhost:8080/"
        }
      },
      "outputs": [
        {
          "output_type": "stream",
          "name": "stdout",
          "text": [
            "[2, 4, 6, 8, 10, 12, 14, 16, 18, 20]\n"
          ]
        }
      ],
      "source": [
        "# Using list comprehension, create a list containing numbers from 1 to 20 that are even\n",
        "\n",
        "l1=[i for i in range(1,21) if i%2==0]\n",
        "print(l1)\n"
      ]
    },
    {
      "cell_type": "markdown",
      "metadata": {
        "id": "0F6yQJQ3kIjk"
      },
      "source": [
        "Create a list of all the fruits you like. Using list comprehension, create another list which contains the total number of charachters for each corresponding fruits.\n",
        "- Eg. fruits = [‘apple’,’kiwi’,’orange’], then output would be - [5,4,6]"
      ]
    },
    {
      "cell_type": "code",
      "execution_count": 20,
      "metadata": {
        "id": "ny86cw3MkIjl",
        "outputId": "43633409-96f0-454a-dc3a-a42a5c358140",
        "colab": {
          "base_uri": "https://localhost:8080/"
        }
      },
      "outputs": [
        {
          "output_type": "stream",
          "name": "stdout",
          "text": [
            "[5, 4, 6]\n"
          ]
        }
      ],
      "source": [
        "fruits = ['apple', 'kiwi', 'orange']\n",
        "\n",
        "fruit_no = [len(fruit) for fruit in fruits]\n",
        "\n",
        "print(fruit_no)\n"
      ]
    },
    {
      "cell_type": "markdown",
      "metadata": {
        "id": "vo1kmvr-kIjl"
      },
      "source": [
        "The above output is shown if fruits = ['apple','kiwi,'orange'], it can vary for different values of fruits\n",
        "\n",
        "Amazing right?"
      ]
    },
    {
      "cell_type": "markdown",
      "metadata": {
        "id": "84KWS4BN7UO5"
      },
      "source": [
        "### Write the code for the following, what is the output obtained?\n",
        "- Set a variable flag = True, num = 5\n",
        "- Run a while loop till flag = True\n",
        "- Inside the while loop - \n",
        "    - Increment the value of num by 5\n",
        "    - If value of num is greater then 50, set flag to be False"
      ]
    },
    {
      "cell_type": "code",
      "execution_count": 28,
      "metadata": {
        "id": "xkBIX1ed7UO5",
        "outputId": "b1af702a-b2b0-4945-c3d7-f4ffa765b049",
        "colab": {
          "base_uri": "https://localhost:8080/"
        }
      },
      "outputs": [
        {
          "output_type": "stream",
          "name": "stdout",
          "text": [
            "5\n",
            "10\n",
            "15\n",
            "20\n",
            "25\n",
            "30\n",
            "35\n",
            "40\n",
            "45\n",
            "50\n"
          ]
        }
      ],
      "source": [
        "# your code here\n",
        "flag = True\n",
        "num = 5\n",
        "\n",
        "while flag:\n",
        "    print(num)\n",
        "    num += 5\n",
        "    if num > 50:\n",
        "        flag = False\n",
        "\n",
        "\n",
        "\n",
        "\n",
        "\n",
        "\n",
        "\n"
      ]
    },
    {
      "cell_type": "markdown",
      "metadata": {
        "id": "-3pcZCrTkIjl"
      },
      "source": [
        "## 11. Functions\n",
        "\n",
        "Declare a function named square, which takes an input as x, and returns the square of x.\n",
        "\n",
        "<p style='text-align: right;'> 5 + 3 = 8 points </p>"
      ]
    },
    {
      "cell_type": "code",
      "execution_count": 30,
      "metadata": {
        "id": "KcdHnSOdkIjl"
      },
      "outputs": [],
      "source": [
        "#define function\n",
        "\n",
        "def square(x):\n",
        "    num=x**2\n",
        "    return num"
      ]
    },
    {
      "cell_type": "markdown",
      "metadata": {
        "id": "TZxl_F2OkIjl"
      },
      "source": [
        "Call the function to find the value of square of 9."
      ]
    },
    {
      "cell_type": "code",
      "execution_count": 31,
      "metadata": {
        "id": "UGeXYW_rkIjl",
        "outputId": "82cb0fdf-4922-4ad3-e5e1-d31f1e10f09c",
        "colab": {
          "base_uri": "https://localhost:8080/"
        }
      },
      "outputs": [
        {
          "output_type": "execute_result",
          "data": {
            "text/plain": [
              "81"
            ]
          },
          "metadata": {},
          "execution_count": 31
        }
      ],
      "source": [
        "# find the square of 9 using the function square you have just created.\n",
        "\n",
        "\n",
        "square(9)"
      ]
    },
    {
      "cell_type": "markdown",
      "metadata": {
        "id": "v1MBYTqCkIjl"
      },
      "source": [
        "Wohoo! see, defining function was simple"
      ]
    },
    {
      "cell_type": "markdown",
      "metadata": {
        "id": "bEJT-O6rkIjl"
      },
      "source": [
        "#### Define another function which checks whether a given is number is odd or even for a given input and it should print whether the  number is odd or even as an output\n",
        "<p style='text-align: right;'> 5 + 3 = 8 points </p>"
      ]
    },
    {
      "cell_type": "code",
      "execution_count": 32,
      "metadata": {
        "id": "Zh-5txrekIjm"
      },
      "outputs": [],
      "source": [
        "# your code here\n",
        "\n",
        "def check_odd_even(x):\n",
        "    if x%2==0:\n",
        "      print(x,\"is even\")\n",
        "    else:\n",
        "      print(x,\"is odd\")\n",
        "\n",
        "\n",
        "\n",
        "\n",
        "    "
      ]
    },
    {
      "cell_type": "code",
      "execution_count": 33,
      "metadata": {
        "id": "CxXXNQg-kIjm",
        "outputId": "bdff0e8f-35e2-404d-8024-4cb577a8ed4d",
        "colab": {
          "base_uri": "https://localhost:8080/"
        }
      },
      "outputs": [
        {
          "output_type": "stream",
          "name": "stdout",
          "text": [
            "3 is odd\n",
            "6 is even\n",
            "21 is odd\n"
          ]
        }
      ],
      "source": [
        " # your code here\n",
        "check_odd_even(3)   \n",
        "check_odd_even(6)\n",
        "check_odd_even(21)\n"
      ]
    },
    {
      "cell_type": "markdown",
      "metadata": {
        "id": "1xBAZkrR7UO4"
      },
      "source": [
        "### define a funtion 'occurence' which takes 2 inputs, one list 'lst' and another one a number 'n' and count the number of occurrences of n in your list lst."
      ]
    },
    {
      "cell_type": "code",
      "execution_count": 35,
      "metadata": {
        "id": "LoVyS-es7UO4",
        "outputId": "47bf64da-abc4-453f-d831-b6fdcc571150",
        "colab": {
          "base_uri": "https://localhost:8080/"
        }
      },
      "outputs": [
        {
          "output_type": "execute_result",
          "data": {
            "text/plain": [
              "4"
            ]
          },
          "metadata": {},
          "execution_count": 35
        }
      ],
      "source": [
        "#your code\n",
        "def occurrence(lst, n):\n",
        "    count = 0\n",
        "    for num in lst:\n",
        "        if num == n:\n",
        "            count += 1\n",
        "    return count\n",
        "\n",
        " \n",
        "#lets use your function\n",
        "lst=[1,2,3,1,2,3,1,2,3,1,2,3]\n",
        "n=2\n",
        "occurrence(lst,n)\n"
      ]
    },
    {
      "cell_type": "markdown",
      "metadata": {
        "id": "5WWR1BWh7UO4"
      },
      "source": [
        "### Using while loop make a function that prints all the values between 1 to n. "
      ]
    },
    {
      "cell_type": "markdown",
      "metadata": {
        "id": "8__jwVni7UO5"
      },
      "source": [
        "<p style='text-align: right;'> 10 points </p>\n"
      ]
    },
    {
      "cell_type": "code",
      "execution_count": 42,
      "metadata": {
        "id": "9Z_uhXKr7UO5"
      },
      "outputs": [],
      "source": [
        "#define counter\n",
        "\n",
        "def counter(n):\n",
        "  i=0\n",
        "  while i<n:\n",
        "    i=i + 1\n",
        "    print(i)\n",
        "\n",
        "\n",
        "\n",
        "   "
      ]
    },
    {
      "cell_type": "code",
      "execution_count": 43,
      "metadata": {
        "id": "xoG1dobL7UO5",
        "outputId": "56f3d24a-fdf9-48b3-8d70-67334d7b651b",
        "colab": {
          "base_uri": "https://localhost:8080/"
        }
      },
      "outputs": [
        {
          "output_type": "stream",
          "name": "stdout",
          "text": [
            "1\n",
            "2\n",
            "3\n",
            "4\n",
            "5\n",
            "6\n",
            "7\n",
            "8\n",
            "9\n",
            "10\n"
          ]
        }
      ],
      "source": [
        "#this should print numbers from 1 to 10\n",
        "\n",
        "counter(10)\n"
      ]
    },
    {
      "cell_type": "code",
      "execution_count": 50,
      "metadata": {
        "id": "AhNs7hq27UO2",
        "outputId": "9232a80b-262c-44fa-9920-9dac0926b2ab",
        "colab": {
          "base_uri": "https://localhost:8080/"
        }
      },
      "outputs": [
        {
          "output_type": "stream",
          "name": "stdout",
          "text": [
            "Enter a number: 3\n",
            "The number is positive.\n",
            "Enter a number: -1\n",
            "The number is negative.\n",
            "Enter a number: 0\n",
            "The number is zero.\n"
          ]
        }
      ],
      "source": [
        "# Now Define a function, which takes input from the user and prints whether the given input is zero,positive or negative.\n",
        "\n",
        "def check_number():\n",
        "    num = float(input(\"Enter a number: \"))\n",
        "    if num == 0:\n",
        "        print(\"The number is zero.\")\n",
        "    elif num > 0:\n",
        "        print(\"The number is positive.\")\n",
        "    else:\n",
        "        print(\"The number is negative.\")\n",
        "    \n",
        "\n",
        "# Test the function:\n",
        "check_number()\n",
        "check_number()\n",
        "check_number()\n",
        "\n",
        "    \n",
        "\n",
        "\n"
      ]
    }
  ],
  "metadata": {
    "colab": {
      "provenance": []
    },
    "kernelspec": {
      "display_name": "Python 3 (ipykernel)",
      "language": "python",
      "name": "python3"
    },
    "language_info": {
      "codemirror_mode": {
        "name": "ipython",
        "version": 3
      },
      "file_extension": ".py",
      "mimetype": "text/x-python",
      "name": "python",
      "nbconvert_exporter": "python",
      "pygments_lexer": "ipython3",
      "version": "3.8.8"
    }
  },
  "nbformat": 4,
  "nbformat_minor": 0
}